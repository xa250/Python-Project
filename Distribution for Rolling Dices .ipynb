{
 "cells": [
  {
   "cell_type": "markdown",
   "metadata": {},
   "source": [
    "## Distribution for rolling dices-Part 1\n",
    "The next few questions involve rolling a 20-sided die (can roll values 1-20)."
   ]
  },
  {
   "cell_type": "markdown",
   "metadata": {},
   "source": [
    "**(a) If you roll a single die with 20 sides, what is the probability distribution? Print the distribution as EITHER a list OR an array**"
   ]
  },
  {
   "cell_type": "code",
   "execution_count": 1,
   "metadata": {},
   "outputs": [],
   "source": [
    "import numpy as np       #import some packages for the future use\n",
    "import pandas as pd\n",
    "import matplotlib.pyplot as plt"
   ]
  },
  {
   "cell_type": "code",
   "execution_count": 2,
   "metadata": {},
   "outputs": [
    {
     "name": "stdout",
     "output_type": "stream",
     "text": [
      "[0.05, 0.05, 0.05, 0.05, 0.05, 0.05, 0.05, 0.05, 0.05, 0.05, 0.05, 0.05, 0.05, 0.05, 0.05, 0.05, 0.05, 0.05, 0.05, 0.05]\n"
     ]
    }
   ],
   "source": [
    "p = [1/20] * 20 # make a list of 20 elements where each element is 1/20\n",
    "\n",
    "print(p) # show this probability distribution"
   ]
  },
  {
   "cell_type": "markdown",
   "metadata": {},
   "source": [
    "**(b) Write a function that simulates rolling a 20-sided die an arbitary number of times. Your function should take an integer parameter and return an array of roll outputs. (Your function MUST be able to \"roll\" a 20-sided die. If you wish, it may be able to roll a die with an arbitrary number of sides, but this is not required.)**\n",
    "\n",
    "**SHOW your function works by \"rolling\" your 20-sided die 15 times. Print the output of these rolls as a single list or array.**"
   ]
  },
  {
   "cell_type": "code",
   "execution_count": 3,
   "metadata": {},
   "outputs": [],
   "source": [
    "def roll_dice(times, faces=20):\n",
    "    # use numpy randint function to do this all at once\n",
    "   \n",
    "    results = np.random.randint(low=1, \n",
    "                                high=faces+1, # note: exclusive of \"high\"\n",
    "                                size=times)\n",
    "    \n",
    "    return results"
   ]
  },
  {
   "cell_type": "code",
   "execution_count": 4,
   "metadata": {},
   "outputs": [
    {
     "data": {
      "text/plain": [
       "array([16,  6,  2, 20,  8, 11, 12, 14, 14,  2,  2, 11, 15,  6, 11])"
      ]
     },
     "execution_count": 4,
     "metadata": {},
     "output_type": "execute_result"
    }
   ],
   "source": [
    "roll_dice(15)     #roll 20-sided die 15 times"
   ]
  },
  {
   "cell_type": "markdown",
   "metadata": {},
   "source": [
    "**(c) Use the function you wrote in Question 3b to simulate rolling a 20-sided die 10,000 times. Plot a probablity distribution function of the results.**\n",
    "\n",
    "* **The y-axis should indicate the _percentage_ of times each number was rolled. EITHER a 0-1 OR a 0-100 scale is fine, but it should NOT be the raw counts.**\n",
    "* **On the same plot, include a horizontal line with the expected probability distribution (ie, your answer from Q3a)**"
   ]
  },
  {
   "cell_type": "code",
   "execution_count": 5,
   "metadata": {},
   "outputs": [],
   "source": [
    "def plot_observed(results, faces=20):  \n",
    "    n_rolls = len(results) # the number of rolls we made\n",
    "    \n",
    "    # make histogram, keep bin height\n",
    "    n, __, __ = plt.hist(rolls, \n",
    "                         weights = np.ones(len(rolls)) / len(rolls),\n",
    "                         bins=np.arange(.5, faces + 1.5, 1), # define bin edges\n",
    "                         rwidth=.8) # allow some white space\n",
    "    \n",
    "    # make horizontal line at 1/20(faces) of observations\n",
    "    plt.hlines(y=(1/faces), xmin=0.5, xmax=faces+.5, \n",
    "           ls='--', lw=2, \n",
    "           color='grey', label='1/20 of observations') \n",
    "    \n",
    "    plt.xlabel('Value')           #plot x label \n",
    "    plt.ylabel('Observed Rolls')  #plot y label \n",
    "    plt.title('Distribution of {} d20 Rolls'.format(n_rolls))\n",
    "    locs, __ = plt.xticks()\n",
    "    plt.xticks(np.arange(1, 21, step=1))    #re-lable the x ticks \n",
    "   \n",
    "    plt.legend() # show label of horizonal line\n",
    "    plt.show() # show plot"
   ]
  },
  {
   "cell_type": "code",
   "execution_count": 6,
   "metadata": {},
   "outputs": [
    {
     "data": {
      "image/png": "[encoded data removed]",
      "text/plain": [
       "<Figure size 432x288 with 1 Axes>"
      ]
     },
     "metadata": {
      "needs_background": "light"
     },
     "output_type": "display_data"
    }
   ],
   "source": [
    "# simulate rolling a 20-sided die 10,000 times\n",
    "rolls = roll_dice(times=10000)\n",
    "plot_observed(rolls)    #plot the probablity distribution function of the results"
   ]
  },
  {
   "cell_type": "code",
   "execution_count": 7,
   "metadata": {},
   "outputs": [
    {
     "data": {
      "image/png": "[encoded data removed]",
      "text/plain": [
       "<Figure size 432x288 with 1 Axes>"
      ]
     },
     "metadata": {
      "needs_background": "light"
     },
     "output_type": "display_data"
    }
   ],
   "source": [
    "rolls = roll_dice(100)     #I just want to try out to see what looks like when simulating 100 times\n",
    "plot_observed(rolls) "
   ]
  },
  {
   "cell_type": "markdown",
   "metadata": {},
   "source": [
    "**(d) How does the distribution of 10,000 roles you generated in Q3c compare to the expected distribution? What guarantees this behavior?**"
   ]
  },
  {
   "cell_type": "markdown",
   "metadata": {},
   "source": [
    "The distribution of 10,000 I generated is very close to the expected distribution. This is because of the Law of Large Numbers. According to this theorem, if we do something bunch of times, the observed results will converge to the actual values. In this case, because each side has the equal chance theoretically, so more times to roll the die, the results will more like an uniform distribution. "
   ]
  },
  {
   "cell_type": "markdown",
   "metadata": {},
   "source": [
    "## Distribution for rolling dices-Part 2\n",
    "This question asks about the likelihood of observing a given (or smaller) mean on a set of 20-sided dice rolls.\n",
    "\n",
    "This is inspired by the so-called \"Wil Wheaton dice curse\" named after actor Wil Wheaton who consistently rolls so poorly (low), that he is said to be \"cursed.\"\n",
    "\n",
    "Specifically, Wheaton was observed to have the following set of outcomes when rolling a 20-sided die:\n",
    "\n",
    "    observed = [1, 1, 1, 1, 1, 1, 1, 1, 1, 1, \n",
    "                2, 2, 2, 2, 2, 2, 2, 3, 3, 3, 3, \n",
    "                4, 4, 4, 4, 5, 6, 6, 6, 6, 6, \n",
    "                7, 7, 8, 8, 9, 9, 9, 9, 11, 11, \n",
    "                12, 13, 13, 14, 14, 14, 15, 15, \n",
    "                17, 18, 19, 19, 20]"
   ]
  },
  {
   "cell_type": "markdown",
   "metadata": {},
   "source": [
    "**(a) Plot a histogram of these observed dice rolls. Your plot can show EITHER the raw counts OR the density (eg, percentage)**"
   ]
  },
  {
   "cell_type": "code",
   "execution_count": 8,
   "metadata": {},
   "outputs": [
    {
     "data": {
      "image/png": "[encoded data removed]",
      "text/plain": [
       "<Figure size 432x288 with 1 Axes>"
      ]
     },
     "metadata": {
      "needs_background": "light"
     },
     "output_type": "display_data"
    }
   ],
   "source": [
    "observed = [1, 1, 1, 1, 1, 1, 1, 1, 1, 1, \n",
    "            2, 2, 2, 2, 2, 2, 2, 3, 3, 3, 3, \n",
    "            4, 4, 4, 4, 5, 6, 6, 6, 6, 6, \n",
    "            7, 7, 8, 8, 9, 9, 9, 9, 11, 11, \n",
    "            12, 13, 13, 14, 14, 14, 15, 15, \n",
    "            17, 18, 19, 19, 20]\n",
    "\n",
    "# make pdf as a weighted histogram\n",
    "plt.hist(observed, \n",
    "         weights=np.ones(len(observed)) / len(observed))\n",
    "\n",
    "# label axes, etc\n",
    "plt.xlabel('Value')\n",
    "plt.ylabel('Percentage of Observed Rolls ')\n",
    "plt.title('Distribution of d20 Rolls')\n",
    "\n",
    "plt.show()\n",
    "#shows values instead of bins"
   ]
  },
  {
   "cell_type": "markdown",
   "metadata": {},
   "source": [
    "**(b) Write a function that calculates the mean for an arbitrary number of dice rolls an arbitrary number of times. For example, if your function takes integer parameters _times_ and _dice_, then for (dice=10, times=5) it would roll 10 dice 5 times. Save the average (mean) each time you roll the dice and return an array (or list) of length _times_ where each element of the array is an average of _dice_ rolls.**\n",
    "\n",
    "**SHOW your function works by rolling 10 dice (all 20-sided) 5 times and printing the output as a single list or array.**\n",
    "\n",
    "**Hint: Here is some sample output from six calls to my function. Note that because this is a _stochastic process_ (eg, random) you will NOT see the exact same outout. For this question, you only need to show output from ONE call to your function**\n",
    "\n",
    "\n",
    "```\n",
    "    for i in range(6):\n",
    "        roll_avg = mean_rolls(dice=10, times=5)\n",
    "        print(roll_avg)\n",
    "   \n",
    "    [ 8.6  7.9 12.  11.2 10.9]\n",
    "    [ 7.7 10.7 11.3  9.5  8.5]\n",
    "    [ 9.2  9.9 10.   6.7 10.9]\n",
    "    [13.4 11.  12.8  8.6 11. ]\n",
    "    [12.9 10.9  7.9  7.4  9.9]\n",
    "    [ 8.2  8.1 11.8  7.8 12.4]\n",
    "```\n",
    "\n",
    "**NOTES:**\n",
    "\n",
    "* **Your function MAY call your function from 3b. This is encouraged, but not required**\n",
    "* **Your function MUST be able to \"roll\" a 20-sided die. If you wish, it may be able to roll a die with an arbitrary number of sides, but this is not required.**\n",
    "* **You may name your function and parameters whatever you wish**\n",
    "\n"
   ]
  },
  {
   "cell_type": "code",
   "execution_count": 10,
   "metadata": {},
   "outputs": [],
   "source": [
    "def mean_rolls(dice, times):   #define a function called dice_roller\n",
    "    results=[]\n",
    "    for t in range(times):           #for loop to find the variable in each time\n",
    "        t = 1\n",
    "        temp = roll_dice(faces=20, times=dice)\n",
    "        mean_temp = sum(temp)/len(temp)    #find average number\n",
    "        results.append(mean_temp)\n",
    "    return results"
   ]
  },
  {
   "cell_type": "code",
   "execution_count": 11,
   "metadata": {},
   "outputs": [
    {
     "name": "stdout",
     "output_type": "stream",
     "text": [
      "[12.1, 9.4, 8.7, 11.8, 12.1]\n"
     ]
    }
   ],
   "source": [
    "roll_avg = mean_rolls(10, 5)    #the average number of rolling 10 dice 5 times\n",
    "print(roll_avg)"
   ]
  },
  {
   "cell_type": "markdown",
   "metadata": {},
   "source": [
    "**(c) Using your function from Q4b, roll a number of dice _equal to the number of observed dice rolls_ (e.g., the length of _observed_.) Do this 100 times.**\n",
    "\n",
    "**PLOT the resulting distribution of means. INCLUDE a vertical line indicating the observed mean. (Your plot can indicate raw counts or percentages).**"
   ]
  },
  {
   "cell_type": "code",
   "execution_count": 12,
   "metadata": {},
   "outputs": [
    {
     "data": {
      "text/plain": [
       "54"
      ]
     },
     "execution_count": 12,
     "metadata": {},
     "output_type": "execute_result"
    }
   ],
   "source": [
    "len(observed)      #find the lenth of the obsered "
   ]
  },
  {
   "cell_type": "code",
   "execution_count": 13,
   "metadata": {},
   "outputs": [
    {
     "name": "stdout",
     "output_type": "stream",
     "text": [
      "[10.38888888888889, 10.462962962962964, 9.851851851851851, 10.75925925925926, 10.296296296296296, 9.962962962962964, 11.12962962962963, 10.166666666666666, 11.407407407407407, 9.074074074074074, 10.61111111111111, 10.574074074074074, 9.88888888888889, 10.425925925925926, 12.87037037037037, 10.5, 10.574074074074074, 11.685185185185185, 10.166666666666666, 9.944444444444445, 10.851851851851851, 9.018518518518519, 10.592592592592593, 11.925925925925926, 10.796296296296296, 11.296296296296296, 9.222222222222221, 10.814814814814815, 11.851851851851851, 11.462962962962964, 11.907407407407407, 11.851851851851851, 9.12962962962963, 10.592592592592593, 10.037037037037036, 11.944444444444445, 9.25925925925926, 11.592592592592593, 12.425925925925926, 10.407407407407407, 9.925925925925926, 10.518518518518519, 11.481481481481481, 10.592592592592593, 9.444444444444445, 12.148148148148149, 11.592592592592593, 9.981481481481481, 10.796296296296296, 10.592592592592593, 10.722222222222221, 11.185185185185185, 10.222222222222221, 12.462962962962964, 11.981481481481481, 10.777777777777779, 11.148148148148149, 11.148148148148149, 9.425925925925926, 10.537037037037036, 9.296296296296296, 9.907407407407407, 9.38888888888889, 10.777777777777779, 10.74074074074074, 10.481481481481481, 11.018518518518519, 12.407407407407407, 11.518518518518519, 10.314814814814815, 11.12962962962963, 10.166666666666666, 10.444444444444445, 10.092592592592593, 10.5, 11.037037037037036, 11.055555555555555, 9.62962962962963, 11.5, 10.277777777777779, 9.407407407407407, 11.648148148148149, 10.37037037037037, 10.166666666666666, 10.296296296296296, 10.833333333333334, 11.25925925925926, 9.851851851851851, 10.185185185185185, 10.833333333333334, 9.481481481481481, 10.351851851851851, 10.88888888888889, 9.814814814814815, 11.333333333333334, 10.277777777777779, 10.944444444444445, 11.518518518518519, 11.444444444444445, 11.777777777777779]\n"
     ]
    }
   ],
   "source": [
    "newRollAvg = mean_rolls(54, 100)   #roll observed dice rolls 100 times\n",
    "\n",
    "print(newRollAvg)"
   ]
  },
  {
   "cell_type": "code",
   "execution_count": 14,
   "metadata": {},
   "outputs": [
    {
     "data": {
      "image/png": "[encoded data removed]",
      "text/plain": [
       "<Figure size 432x288 with 1 Axes>"
      ]
     },
     "metadata": {
      "needs_background": "light"
     },
     "output_type": "display_data"
    }
   ],
   "source": [
    "# find the *average* of these averages\n",
    "total_avg = np.mean(newRollAvg)\n",
    "\n",
    "# plot this\n",
    "plt.hist(newRollAvg)\n",
    "plt.vlines(x=total_avg, ymin=0, ymax=25,     #find the average line \n",
    "           color='grey', ls='--', lw=2, label='Average')\n",
    "plt.xlabel('Sample Average')\n",
    "plt.ylabel('Count')\n",
    "plt.title('Sampling Distribution of Population Average')\n",
    "plt.legend()\n",
    "plt.show()"
   ]
  },
  {
   "cell_type": "markdown",
   "metadata": {},
   "source": [
    "**(d) Using your function from Q4b, roll -- 10000 times -- a number of dice _equal to the number of observed dice rolls_.**\n",
    "\n",
    "**PLOT the resulting distribution of means. INCLUDE a vertical line indicating the observed mean. (Your plot can indicate raw counts or percentages).**"
   ]
  },
  {
   "cell_type": "code",
   "execution_count": 15,
   "metadata": {},
   "outputs": [
    {
     "data": {
      "image/png": "[encoded data removed]",
      "text/plain": [
       "<Figure size 432x288 with 1 Axes>"
      ]
     },
     "metadata": {
      "needs_background": "light"
     },
     "output_type": "display_data"
    }
   ],
   "source": [
    "LastRollAvg = mean_rolls(len(observed), 10000)   #roll observed dice rolls 1000 times\n",
    "\n",
    "# find the *average* of these averages\n",
    "total_avg = np.mean(LastRollAvg)\n",
    "\n",
    "# plot this\n",
    "plt.hist(LastRollAvg)\n",
    "plt.vlines(x=total_avg, ymin=0, ymax=3000,     #find the average line \n",
    "           color='grey', ls='--', lw=2, label='Average')\n",
    "plt.xlabel('Sample Average')\n",
    "plt.ylabel('Count')\n",
    "plt.title('Sampling Distribution of Population Average')\n",
    "plt.legend()\n",
    "plt.show()"
   ]
  },
  {
   "cell_type": "markdown",
   "metadata": {},
   "source": [
    "**(e) Compare your plots from Q4d and Q4c: As we increase the number of samples we draw (eg, times we roll the dice), what do you notice about the shape of the sampling distribution of the sample mean? What mathematical result guarantees this?**"
   ]
  },
  {
   "cell_type": "markdown",
   "metadata": {},
   "source": [
    "As we increase the number of samples we draw, the shape of the sampling distribution of the sample mean is more like a bell curved normal distribution shape. As we know from the central limit theorm, we see that the sample mean converges to the true population mean."
   ]
  }
 ],
 "metadata": {
  "kernelspec": {
   "display_name": "Python 3",
   "language": "python",
   "name": "python3"
  },
  "language_info": {
   "codemirror_mode": {
    "name": "ipython",
    "version": 3
   },
   "file_extension": ".py",
   "mimetype": "text/x-python",
   "name": "python",
   "nbconvert_exporter": "python",
   "pygments_lexer": "ipython3",
   "version": "3.8.5"
  }
 },
 "nbformat": 4,
 "nbformat_minor": 4
}
